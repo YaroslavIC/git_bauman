{
 "cells": [
  {
   "cell_type": "code",
   "execution_count": null,
   "metadata": {},
   "outputs": [],
   "source": [
    "import numpy as np\n",
    "from pandas import read_csv, DataFrame\n",
    "from keras.datasets import mnist\n",
    "import matplotlib.pyplot as plt\n",
    "from tensorflow.keras import utils\n",
    "from tensorflow.keras import Sequential\n",
    "from tensorflow.keras.layers import Dense,Dropout\n",
    "from tensorflow.keras.preprocessing import image\n",
    "import pandas as pd\n",
    "import numpy as np\n",
    "import matplotlib.pyplot as plt\n",
    "from sklearn.preprocessing import MinMaxScaler \n",
    "import seaborn as sns\n",
    "from sklearn.model_selection import train_test_split\n",
    "\n",
    "\n",
    "url = r\"C:/bauman/git_bauman/data/ebw_data.csv\"\n",
    "dataset = pd.read_csv(url)\n",
    "#dataset.head()\n",
    "#dataset.describe()\n",
    "\n",
    "# посмотрели есть ли выпадения данных\n",
    "print('percentage of NaN cells:')\n",
    "print(dataset.isna().sum() / dataset.shape[0] *100)\n",
    "\n",
    "\n",
    "# нормализация и запоминание мин и макс по столбцам\n",
    "maxdataset = dataset[['IW','IF','VW','FP','Depth','Width']].max()\n",
    "mindataset = dataset[['IW','IF','VW','FP','Depth','Width']].min()\n",
    "\n",
    "maxIW = maxdataset['IW'] \n",
    "minIW = mindataset['IW'] \n",
    "normIW = (dataset['IW'] - minIW ) / (maxIW - minIW )\n",
    "\n",
    "maxIF = maxdataset['IF'] \n",
    "minIF = mindataset['IF'] \n",
    "normIF = (dataset['IF'] - minIF ) / (maxIF - minIF )\n",
    "\n",
    "maxVW = maxdataset['VW'] \n",
    "minVW = mindataset['VW'] \n",
    "normVW = (dataset['VW'] - minVW ) / (maxVW - minVW )\n",
    "\n",
    "maxFP = maxdataset['FP'] \n",
    "minFP = mindataset['FP'] \n",
    "normFP = (dataset['FP'] - minFP ) / (maxFP - minFP )\n",
    "\n",
    "maxDepth = maxdataset['Depth'] \n",
    "minDepth = mindataset['Depth'] \n",
    "normDepth = (dataset['Depth'] - minDepth ) / (maxDepth - minDepth )\n",
    "\n",
    "maxWidth = maxdataset['Width'] \n",
    "minWidth = mindataset['Width'] \n",
    "normWith = (dataset['Width'] - minWidth ) / (maxWidth - minWidth )\n",
    "\n",
    "normdataset = pd.DataFrame({'IW': normIW, \n",
    "                            'IF': normIF,\n",
    "                            'VW': normVW,\n",
    "                            'FP': normFP,\n",
    "                            'Depth': normDepth,\n",
    "                            'Width': normWith,\n",
    "                            })\n",
    "\n",
    "# переменные для входных и выходных данных\n",
    "X = normdataset[['IW','IF','VW','FP']]\n",
    "Y = normdataset[['Depth','Width']] \n",
    "\n",
    "# делим выборку и перемешиваем\n",
    "X_train, X_test, Y_train, Y_test = train_test_split(X,Y,test_size = 0.05, shuffle = True)\n",
    "\n",
    "# создаем модель\n",
    "model = Sequential()\n",
    "model.add(Dense(4, activation = 'sigmoid'))\n",
    "model.add(Dense(2, activation = 'sigmoid'))\n",
    "model.compile( loss = 'mse',optimizer = 'adam', metrics = ['accuracy'] )\n",
    "\n",
    "history = model.fit(X_train,Y_train, epochs = 1000, validation_data = (X_train,Y_train), verbose = 1)\n",
    "\n",
    "# для инфомации выводит кривую обучения\n",
    "plt.plot(history.history['accuracy'],label = 'Обучающая выборка')\n",
    "plt.plot(history.history['val_accuracy'],label = 'Точность тест')\n",
    "plt.title('Обучение')\n",
    "plt.xlabel('эпохи')\n",
    "plt.ylabel(model.loss)"
   ]
  },
  {
   "cell_type": "code",
   "execution_count": 67,
   "metadata": {},
   "outputs": [],
   "source": [
    "# проверка ввода пользователя, используем одну из строчек из dataset \n",
    "# \n",
    "# 47\t134\t10.0\t110\t0.92\t1.86\n",
    "human_input = pd.DataFrame({'IW': [47],\n",
    "                            'IF': [134],\n",
    "                            'VW': [10],\n",
    "                            'FP': [110]})\n",
    "\n",
    "# нормализуем введеные данные\n",
    "human_input['IW'] = (human_input['IW'] - minIW) / (maxIW - minIW)\n",
    "human_input['IF'] = (human_input['IF'] - minIF) / (maxIF - minIF)\n",
    "human_input['VW'] = (human_input['VW'] - minVW) / (maxVW - minVW)\n",
    "human_input['FP'] = (human_input['FP'] - minFP) / (maxFP - minFP)"
   ]
  },
  {
   "cell_type": "code",
   "execution_count": 68,
   "metadata": {},
   "outputs": [
    {
     "name": "stdout",
     "output_type": "stream",
     "text": [
      "1/1 [==============================] - 0s 55ms/step\n"
     ]
    },
    {
     "data": {
      "text/html": [
       "<div>\n",
       "<style scoped>\n",
       "    .dataframe tbody tr th:only-of-type {\n",
       "        vertical-align: middle;\n",
       "    }\n",
       "\n",
       "    .dataframe tbody tr th {\n",
       "        vertical-align: top;\n",
       "    }\n",
       "\n",
       "    .dataframe thead th {\n",
       "        text-align: right;\n",
       "    }\n",
       "</style>\n",
       "<table border=\"1\" class=\"dataframe\">\n",
       "  <thead>\n",
       "    <tr style=\"text-align: right;\">\n",
       "      <th></th>\n",
       "      <th>Depth</th>\n",
       "      <th>Width</th>\n",
       "    </tr>\n",
       "  </thead>\n",
       "  <tbody>\n",
       "    <tr>\n",
       "      <th>0</th>\n",
       "      <td>0.993897</td>\n",
       "      <td>2.000333</td>\n",
       "    </tr>\n",
       "  </tbody>\n",
       "</table>\n",
       "</div>"
      ],
      "text/plain": [
       "      Depth     Width\n",
       "0  0.993897  2.000333"
      ]
     },
     "execution_count": 68,
     "metadata": {},
     "output_type": "execute_result"
    }
   ],
   "source": [
    "# делаем предсказание\n",
    "mypredcit = model.predict(human_input)\n",
    "\n",
    "predict = pd.DataFrame({'Depth': mypredcit[:,0]*(maxDepth-minDepth)+minDepth, \n",
    "                        'Width': mypredcit[:,1]*(maxWidth-minWidth)+minWidth})\n",
    "\n",
    "# тестовые значение для ответа: 0.92\t1.86\n",
    "predict"
   ]
  }
 ],
 "metadata": {
  "kernelspec": {
   "display_name": "Python 3.9.13 64-bit (microsoft store)",
   "language": "python",
   "name": "python3"
  },
  "language_info": {
   "codemirror_mode": {
    "name": "ipython",
    "version": 3
   },
   "file_extension": ".py",
   "mimetype": "text/x-python",
   "name": "python",
   "nbconvert_exporter": "python",
   "pygments_lexer": "ipython3",
   "version": "3.9.13"
  },
  "orig_nbformat": 4,
  "vscode": {
   "interpreter": {
    "hash": "b2a7dea567aa21acd9bf37b61e73e4ca024b299331bd2a845bcc12904aaa0a49"
   }
  }
 },
 "nbformat": 4,
 "nbformat_minor": 2
}
